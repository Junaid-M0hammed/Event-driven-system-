{
 "cells": [
  {
   "cell_type": "code",
   "execution_count": null,
   "id": "f8199fae-008d-4fa3-ab87-9ad85f8f694a",
   "metadata": {},
   "outputs": [],
   "source": [
    "from pyflink.datastream import StreamExecutionEnvironment\n",
    "\n",
    "env = StreamExecutionEnvironment.get_execution_environment()\n",
    "env.enable_checkpointing(5000)\n",
    "\n",
    "stream = env.add_source(KafkaSource(...))  \n",
    "stream.key_by(lambda event: event[\"id\"]) \\\n",
    "      .process(EventRecoveryFunction()) \\\n",
    "      .sink_to(KafkaSink(...))\n",
    "\n",
    "env.execute(\"Event Recovery Job\")\n"
   ]
  }
 ],
 "metadata": {
  "kernelspec": {
   "display_name": "Python [conda env:base] *",
   "language": "python",
   "name": "conda-base-py"
  },
  "language_info": {
   "codemirror_mode": {
    "name": "ipython",
    "version": 3
   },
   "file_extension": ".py",
   "mimetype": "text/x-python",
   "name": "python",
   "nbconvert_exporter": "python",
   "pygments_lexer": "ipython3",
   "version": "3.12.7"
  }
 },
 "nbformat": 4,
 "nbformat_minor": 5
}
