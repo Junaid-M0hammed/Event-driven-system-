{
 "cells": [
  {
   "cell_type": "code",
   "execution_count": null,
   "id": "31028fdb-4d0c-4721-b608-f4a21dd52898",
   "metadata": {},
   "outputs": [],
   "source": [
    "from kafka import KafkaConsumer, KafkaProducer\n",
    "import json\n",
    "\n",
    "consumer = KafkaConsumer(\n",
    "    'events',\n",
    "    bootstrap_servers='localhost:9092',\n",
    "    auto_offset_reset='earliest', \n",
    "    enable_auto_commit=False\n",
    ")\n",
    "\n",
    "producer = KafkaProducer(\n",
    "    bootstrap_servers='localhost:9092',\n",
    "    value_serializer=lambda x: json.dumps(x).encode('utf-8')\n",
    ")\n",
    "\n",
    "for message in consumer:\n",
    "    event = message.value\n",
    "    if event['value'] is None:\n",
    "        event['value'] = 42  \n",
    "        producer.send('recovered-events', value=event)\n",
    "\n",
    "print(\"Reprocessed missing events.\")\n"
   ]
  }
 ],
 "metadata": {
  "kernelspec": {
   "display_name": "Python [conda env:base] *",
   "language": "python",
   "name": "conda-base-py"
  },
  "language_info": {
   "codemirror_mode": {
    "name": "ipython",
    "version": 3
   },
   "file_extension": ".py",
   "mimetype": "text/x-python",
   "name": "python",
   "nbconvert_exporter": "python",
   "pygments_lexer": "ipython3",
   "version": "3.12.7"
  }
 },
 "nbformat": 4,
 "nbformat_minor": 5
}
