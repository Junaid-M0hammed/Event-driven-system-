{
 "cells": [
  {
   "cell_type": "code",
   "execution_count": null,
   "id": "a097ad9c-a410-4ee1-8dcf-2fa3ef1e8d94",
   "metadata": {},
   "outputs": [],
   "source": [
    "import pandas as pd\n",
    "\n",
    "events = pd.DataFrame([\n",
    "    {\"event_id\": 1, \"value\": 10},\n",
    "    {\"event_id\": 2, \"value\": 20},\n",
    "    {\"event_id\": 3, \"value\": None},\n",
    "    {\"event_id\": 4, \"value\": 40},\n",
    "])\n",
    "\n",
    "events[\"value\"] = events[\"value\"].interpolate()\n",
    "print(events)\n"
   ]
  }
 ],
 "metadata": {
  "kernelspec": {
   "display_name": "Python [conda env:base] *",
   "language": "python",
   "name": "conda-base-py"
  },
  "language_info": {
   "codemirror_mode": {
    "name": "ipython",
    "version": 3
   },
   "file_extension": ".py",
   "mimetype": "text/x-python",
   "name": "python",
   "nbconvert_exporter": "python",
   "pygments_lexer": "ipython3",
   "version": "3.12.7"
  }
 },
 "nbformat": 4,
 "nbformat_minor": 5
}
